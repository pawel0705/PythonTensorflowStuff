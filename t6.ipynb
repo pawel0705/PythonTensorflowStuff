{
 "cells": [
  {
   "cell_type": "markdown",
   "metadata": {},
   "source": [
    "# Model zamieniający cyfry rzymskie na arabskie\n",
    "- input: sekwencja cyfr rzymskich\n",
    "- output: cyfry arabskie \n",
    "\n",
    "\n",
    "Examples: \n",
    "- input: sequence 'X' output: 10\n",
    "- input: sequence 'XII' output: 12\n"
   ]
  },
  {
   "cell_type": "markdown",
   "metadata": {},
   "source": [
    "Import modułów"
   ]
  },
  {
   "cell_type": "code",
   "execution_count": 1,
   "metadata": {},
   "outputs": [],
   "source": [
    "from tensorflow.keras.layers import Dense\n",
    "from tensorflow.keras.models import Sequential\n",
    "from tensorflow.keras.layers import LSTM\n",
    "import numpy as np\n",
    "import roman_numerals as cnv\n",
    "import random"
   ]
  },
  {
   "cell_type": "markdown",
   "metadata": {},
   "source": [
    "## Model"
   ]
  },
  {
   "cell_type": "markdown",
   "metadata": {},
   "source": [
    "Utworzenie modelu"
   ]
  },
  {
   "cell_type": "code",
   "execution_count": 2,
   "metadata": {},
   "outputs": [
    {
     "name": "stdout",
     "output_type": "stream",
     "text": [
      "Model: \"sequential\"\n",
      "_________________________________________________________________\n",
      "Layer (type)                 Output Shape              Param #   \n",
      "=================================================================\n",
      "lstm (LSTM)                  (None, None, 128)         66560     \n",
      "_________________________________________________________________\n",
      "lstm_1 (LSTM)                (None, 128)               131584    \n",
      "_________________________________________________________________\n",
      "dense (Dense)                (None, 1)                 129       \n",
      "=================================================================\n",
      "Total params: 198,273\n",
      "Trainable params: 198,273\n",
      "Non-trainable params: 0\n",
      "_________________________________________________________________\n"
     ]
    }
   ],
   "source": [
    "model = Sequential()\n",
    "model.add(LSTM(128,input_shape=(None,1),return_sequences=True)) # sequences of singlen numbers\n",
    "model.add(LSTM(128))\n",
    "model.add(Dense(1))\n",
    "\n",
    "model.compile(loss='mean_squared_error', optimizer=\"adam\",metrics=['mae','mse'])\n",
    "num_epochs = 0\n",
    "model.summary()"
   ]
  },
  {
   "cell_type": "markdown",
   "metadata": {},
   "source": [
    "## Tworzenie zbioru danych"
   ]
  },
  {
   "cell_type": "markdown",
   "metadata": {},
   "source": [
    "Metody pomocnicze"
   ]
  },
  {
   "cell_type": "code",
   "execution_count": 3,
   "metadata": {},
   "outputs": [],
   "source": [
    "# helper method, converts sequence of numbers to text\n",
    "def to_text(sample):\n",
    "    return ''.join([idx2char[int(x)] for x in sample])\n",
    "# helper method, converts text to sequence of numbers\n",
    "def to_number(words):\n",
    "    return np.array([char2idx[char] for char in words])"
   ]
  },
  {
   "cell_type": "markdown",
   "metadata": {},
   "source": [
    "Utworzenie samples i labels"
   ]
  },
  {
   "cell_type": "code",
   "execution_count": 4,
   "metadata": {},
   "outputs": [
    {
     "name": "stdout",
     "output_type": "stream",
     "text": [
      "Max len of text 9\n",
      "vocabulary (used letters) [' ', 'C', 'I', 'L', 'V', 'X']\n",
      "unique characters 6\n"
     ]
    }
   ],
   "source": [
    "DATASET_SIZE=200\n",
    "\n",
    "samples = []\n",
    "labels = []\n",
    "all_words = ''\n",
    "max_len = 0\n",
    "\n",
    "for i in range(DATASET_SIZE):\n",
    "    labels.append(i + 1)\n",
    "    words = cnv.convert(i + 1)\n",
    "    samples.append(words)\n",
    "    all_words += words\n",
    "    if len(words)>max_len: \n",
    "        max_len = len(words)\n",
    "\n",
    "all_words += ' '\n",
    "\n",
    "print('Max len of text',max_len)\n",
    "vocab = sorted(set(all_words))\n",
    "vocab_size = len(vocab)\n",
    "print('vocabulary (used letters)',vocab)\n",
    "print ('unique characters',vocab_size)"
   ]
  },
  {
   "cell_type": "markdown",
   "metadata": {},
   "source": [
    "#### Creating a mapping from unique characters to indices"
   ]
  },
  {
   "cell_type": "code",
   "execution_count": 5,
   "metadata": {
    "scrolled": true
   },
   "outputs": [
    {
     "name": "stdout",
     "output_type": "stream",
     "text": [
      "char2idx:\n",
      " {' ': 0, 'C': 1, 'I': 2, 'L': 3, 'V': 4, 'X': 5}\n",
      "idx2char\n",
      " [' ' 'C' 'I' 'L' 'V' 'X']\n"
     ]
    }
   ],
   "source": [
    "char2idx = {char:index for index, char in enumerate(vocab)}\n",
    "print('char2idx:\\n',char2idx)\n",
    "idx2char = np.array(vocab)\n",
    "print('idx2char\\n',idx2char)"
   ]
  },
  {
   "cell_type": "markdown",
   "metadata": {},
   "source": [
    "#### Convert letters to numbers using char2idx"
   ]
  },
  {
   "cell_type": "code",
   "execution_count": 6,
   "metadata": {},
   "outputs": [
    {
     "name": "stdout",
     "output_type": "stream",
     "text": [
      "CXXIV  ->becomes->  [1 5 5 2 4]\n"
     ]
    }
   ],
   "source": [
    "samples_int = []\n",
    "for s in samples:\n",
    "    v = np.array([char2idx[char] for char in s])\n",
    "    samples_int.append(v) # different sizes!\n",
    "print(samples[123],' ->becomes-> ',samples_int[123])"
   ]
  },
  {
   "cell_type": "markdown",
   "metadata": {},
   "source": [
    "#### From list of lists to numpy - must have a fixed number of characters (30 -> max_len)"
   ]
  },
  {
   "cell_type": "code",
   "execution_count": 7,
   "metadata": {},
   "outputs": [
    {
     "name": "stdout",
     "output_type": "stream",
     "text": [
      "SAMPLES\n",
      "\n",
      " [[2. 0. 0. ... 0. 0. 0.]\n",
      " [2. 2. 0. ... 0. 0. 0.]\n",
      " [2. 2. 2. ... 0. 0. 0.]\n",
      " ...\n",
      " [1. 5. 1. ... 2. 0. 0.]\n",
      " [1. 5. 1. ... 0. 0. 0.]\n",
      " [1. 1. 0. ... 0. 0. 0.]]\n",
      "(200, 9)\n"
     ]
    }
   ],
   "source": [
    "samples = np.zeros((DATASET_SIZE,max_len))\n",
    "for i in range(len(samples_int)):\n",
    "    for j in range(len(samples_int[i])):\n",
    "        samples[i,j] = np.array(samples_int[i][j]) # all not used have '0' which is ' '\n",
    "print('SAMPLES\\n\\n',samples)\n",
    "print(samples.shape)"
   ]
  },
  {
   "cell_type": "markdown",
   "metadata": {},
   "source": [
    "Rozszerzenie wymiaru samples i konwersja labels"
   ]
  },
  {
   "cell_type": "code",
   "execution_count": 8,
   "metadata": {
    "scrolled": true
   },
   "outputs": [
    {
     "name": "stdout",
     "output_type": "stream",
     "text": [
      "Sample (for 123):\n",
      " [[1.]\n",
      " [5.]\n",
      " [5.]\n",
      " [2.]\n",
      " [4.]\n",
      " [0.]\n",
      " [0.]\n",
      " [0.]\n",
      " [0.]]\n",
      "Sample decoded CXXIV    \n",
      "Label (output): 124.0\n",
      "samples shape (200, 9, 1)\n",
      "labels shape (200,)\n"
     ]
    }
   ],
   "source": [
    "samples = np.expand_dims(samples,axis=2) #add the third dimension\n",
    "labels = np.array(labels,dtype=float)\n",
    "\n",
    "print(\"Sample (for 123):\\n\",samples[123])\n",
    "print(\"Sample decoded\",to_text(samples[123]))\n",
    "print(\"Label (output):\",labels[123])\n",
    "\n",
    "print('samples shape',samples.shape)\n",
    "print('labels shape',labels.shape)"
   ]
  },
  {
   "cell_type": "markdown",
   "metadata": {},
   "source": [
    "Rozdzielenie danych na testowe i treningowe"
   ]
  },
  {
   "cell_type": "code",
   "execution_count": 9,
   "metadata": {},
   "outputs": [
    {
     "name": "stdout",
     "output_type": "stream",
     "text": [
      "Training samples: 100  test samples 100\n"
     ]
    }
   ],
   "source": [
    "TRAINING_SIZE = .5\n",
    "from sklearn.model_selection import train_test_split\n",
    "(trainSamples, testSamples, trainLabels, testLabels) = train_test_split(samples, labels,train_size=TRAINING_SIZE, random_state=1)\n",
    "print('Training samples:',len(trainSamples),' test samples',len(testSamples))"
   ]
  },
  {
   "cell_type": "markdown",
   "metadata": {},
   "source": [
    "Sprawdzanie modelu (i wywołanie sprawdzenia jak wygląda nieprzetrenowany)"
   ]
  },
  {
   "cell_type": "code",
   "execution_count": 10,
   "metadata": {
    "scrolled": true
   },
   "outputs": [
    {
     "name": "stdout",
     "output_type": "stream",
     "text": [
      "text => [predicted value] error=[error]\n",
      "1 I         => 0.01 error = 0.99 \n",
      "2 II        => 0.01 error = 1.99 [T]\n",
      "3 III       => 0.02 error = 2.98 [T]\n",
      "4 IV        => 0.02 error = 3.98 [T]\n",
      "5 V         => 0.01 error = 4.99 [T]\n",
      "6 VI        => 0.02 error = 5.98 \n",
      "7 VII       => 0.03 error = 6.97 \n",
      "8 VIII      => 0.03 error = 7.97 [T]\n",
      "9 IX        => 0.02 error = 8.98 [T]\n",
      "10 X         => 0.02 error = 9.98 [T]\n",
      "11 XI        => 0.02 error = 10.98 [T]\n",
      "12 XII       => 0.03 error = 11.97 [T]\n",
      "13 XIII      => 0.04 error = 12.96 \n",
      "14 XIV       => 0.04 error = 13.96 \n",
      "15 XV        => 0.03 error = 14.97 \n",
      "16 XVI       => 0.04 error = 15.96 \n",
      "17 XVII      => 0.04 error = 16.96 [T]\n",
      "18 XVIII     => 0.05 error = 17.95 \n",
      "19 XIX       => 0.04 error = 18.96 \n",
      "20 XX        => 0.03 error = 19.97 \n",
      "21 XXI       => 0.04 error = 20.96 \n",
      "22 XXII      => 0.05 error = 21.95 [T]\n",
      "23 XXIII     => 0.05 error = 22.95 [T]\n",
      "24 XXIV      => 0.05 error = 23.95 [T]\n",
      "25 XXV       => 0.04 error = 24.96 [T]\n",
      "26 XXVI      => 0.05 error = 25.95 [T]\n",
      "27 XXVII     => 0.06 error = 26.94 [T]\n",
      "28 XXVIII    => 0.06 error = 27.94 [T]\n",
      "29 XXIX      => 0.05 error = 28.95 \n",
      "30 XXX       => 0.05 error = 29.95 \n",
      "31 XXXI      => 0.05 error = 30.95 \n",
      "32 XXXII     => 0.06 error = 31.94 [T]\n",
      "33 XXXIII    => 0.06 error = 32.94 \n",
      "34 XXXIV     => 0.06 error = 33.94 [T]\n",
      "35 XXXV      => 0.06 error = 34.94 \n",
      "36 XXXVI     => 0.06 error = 35.94 \n",
      "37 XXXVII    => 0.07 error = 36.93 \n",
      "38 XXXVIII   => 0.07 error = 37.93 \n",
      "39 XXXIX     => 0.06 error = 38.94 [T]\n",
      "40 XL        => 0.03 error = 39.97 \n",
      "41 XLI       => 0.03 error = 40.97 \n",
      "42 XLII      => 0.04 error = 41.96 \n",
      "43 XLIII     => 0.05 error = 42.95 [T]\n",
      "44 XLIV      => 0.05 error = 43.95 \n",
      "45 XLV       => 0.04 error = 44.96 [T]\n",
      "46 XLVI      => 0.05 error = 45.95 \n",
      "47 XLVII     => 0.05 error = 46.95 \n",
      "48 XLVIII    => 0.06 error = 47.94 [T]\n",
      "49 XLIX      => 0.05 error = 48.95 \n",
      "50 L         => 0.01 error = 49.99 \n",
      "51 LI        => 0.02 error = 50.98 [T]\n",
      "52 LII       => 0.02 error = 51.98 [T]\n",
      "53 LIII      => 0.03 error = 52.97 \n",
      "54 LIV       => 0.03 error = 53.97 [T]\n",
      "55 LV        => 0.02 error = 54.98 \n",
      "56 LVI       => 0.03 error = 55.97 \n",
      "57 LVII      => 0.04 error = 56.96 [T]\n",
      "58 LVIII     => 0.04 error = 57.96 \n",
      "59 LIX       => 0.03 error = 58.97 [T]\n",
      "60 LX        => 0.03 error = 59.97 \n",
      "61 LXI       => 0.03 error = 60.97 \n",
      "62 LXII      => 0.04 error = 61.96 [T]\n",
      "63 LXIII     => 0.05 error = 62.95 [T]\n",
      "64 LXIV      => 0.05 error = 63.95 [T]\n",
      "65 LXV       => 0.04 error = 64.96 [T]\n",
      "66 LXVI      => 0.05 error = 65.95 [T]\n",
      "67 LXVII     => 0.05 error = 66.95 [T]\n",
      "68 LXVIII    => 0.06 error = 67.94 \n",
      "69 LXIX      => 0.05 error = 68.95 \n",
      "70 LXX       => 0.04 error = 69.96 [T]\n",
      "71 LXXI      => 0.05 error = 70.95 \n",
      "72 LXXII     => 0.05 error = 71.95 [T]\n",
      "73 LXXIII    => 0.06 error = 72.94 [T]\n",
      "74 LXXIV     => 0.06 error = 73.94 [T]\n",
      "75 LXXV      => 0.05 error = 74.95 \n",
      "76 LXXVI     => 0.06 error = 75.94 [T]\n",
      "77 LXXVII    => 0.06 error = 76.94 [T]\n",
      "78 LXXVIII   => 0.07 error = 77.93 [T]\n",
      "79 LXXIX     => 0.06 error = 78.94 [T]\n",
      "80 LXXX      => 0.06 error = 79.94 \n",
      "81 LXXXI     => 0.06 error = 80.94 [T]\n",
      "82 LXXXII    => 0.06 error = 81.94 [T]\n",
      "83 LXXXIII   => 0.07 error = 82.93 \n",
      "84 LXXXIV    => 0.07 error = 83.93 \n",
      "85 LXXXV     => 0.06 error = 84.94 [T]\n",
      "86 LXXXVI    => 0.07 error = 85.93 \n",
      "87 LXXXVII   => 0.07 error = 86.93 [T]\n",
      "88 LXXXVIII  => 0.07 error = 87.93 [T]\n",
      "89 LXXXIX    => 0.07 error = 88.93 [T]\n",
      "90 XC        => 0.02 error = 89.98 [T]\n",
      "91 XCI       => 0.03 error = 90.97 \n",
      "92 XCII      => 0.03 error = 91.97 \n",
      "93 XCIII     => 0.04 error = 92.96 [T]\n",
      "94 XCIV      => 0.04 error = 93.96 [T]\n",
      "95 XCV       => 0.03 error = 94.97 \n",
      "96 XCVI      => 0.04 error = 95.96 \n",
      "97 XCVII     => 0.05 error = 96.95 \n",
      "98 XCVIII    => 0.05 error = 97.95 [T]\n",
      "99 XCIX      => 0.04 error = 98.96 \n",
      "100 C         => 0.00 error = 100.00 \n",
      "101 CI        => 0.01 error = 100.99 \n",
      "102 CII       => 0.02 error = 101.98 [T]\n",
      "103 CIII      => 0.03 error = 102.97 [T]\n",
      "104 CIV       => 0.03 error = 103.97 \n",
      "105 CV        => 0.02 error = 104.98 \n",
      "106 CVI       => 0.03 error = 105.97 [T]\n",
      "107 CVII      => 0.03 error = 106.97 \n",
      "108 CVIII     => 0.04 error = 107.96 \n",
      "109 CIX       => 0.03 error = 108.97 \n",
      "110 CX        => 0.02 error = 109.98 \n",
      "111 CXI       => 0.03 error = 110.97 [T]\n",
      "112 CXII      => 0.04 error = 111.96 \n",
      "113 CXIII     => 0.04 error = 112.96 [T]\n",
      "114 CXIV      => 0.04 error = 113.96 [T]\n",
      "115 CXV       => 0.03 error = 114.97 \n",
      "116 CXVI      => 0.04 error = 115.96 \n",
      "117 CXVII     => 0.05 error = 116.95 [T]\n",
      "118 CXVIII    => 0.05 error = 117.95 \n",
      "119 CXIX      => 0.04 error = 118.96 \n",
      "120 CXX       => 0.04 error = 119.96 \n",
      "121 CXXI      => 0.04 error = 120.96 \n",
      "122 CXXII     => 0.05 error = 121.95 \n",
      "123 CXXIII    => 0.05 error = 122.95 [T]\n",
      "124 CXXIV     => 0.05 error = 123.95 \n",
      "125 CXXV      => 0.05 error = 124.95 \n",
      "126 CXXVI     => 0.05 error = 125.95 \n",
      "127 CXXVII    => 0.06 error = 126.94 [T]\n",
      "128 CXXVIII   => 0.06 error = 127.94 [T]\n",
      "129 CXXIX     => 0.06 error = 128.94 \n",
      "130 CXXX      => 0.05 error = 129.95 [T]\n",
      "131 CXXXI     => 0.06 error = 130.94 [T]\n",
      "132 CXXXII    => 0.06 error = 131.94 [T]\n",
      "133 CXXXIII   => 0.06 error = 132.94 [T]\n",
      "134 CXXXIV    => 0.06 error = 133.94 \n",
      "135 CXXXV     => 0.06 error = 134.94 [T]\n",
      "136 CXXXVI    => 0.06 error = 135.94 [T]\n",
      "137 CXXXVII   => 0.07 error = 136.93 [T]\n",
      "138 CXXXVIII  => 0.07 error = 137.93 \n",
      "139 CXXXIX    => 0.06 error = 138.94 [T]\n",
      "140 CXL       => 0.03 error = 139.97 \n",
      "141 CXLI      => 0.04 error = 140.96 [T]\n",
      "142 CXLII     => 0.04 error = 141.96 [T]\n",
      "143 CXLIII    => 0.05 error = 142.95 [T]\n",
      "144 CXLIV     => 0.05 error = 143.95 [T]\n",
      "145 CXLV      => 0.04 error = 144.96 [T]\n",
      "146 CXLVI     => 0.05 error = 145.95 [T]\n",
      "147 CXLVII    => 0.05 error = 146.95 [T]\n",
      "148 CXLVIII   => 0.06 error = 147.94 [T]\n",
      "149 CXLIX     => 0.05 error = 148.95 [T]\n",
      "150 CL        => 0.01 error = 149.99 \n",
      "151 CLI       => 0.02 error = 150.98 [T]\n",
      "152 CLII      => 0.03 error = 151.97 [T]\n",
      "153 CLIII     => 0.04 error = 152.96 [T]\n",
      "154 CLIV      => 0.04 error = 153.96 [T]\n",
      "155 CLV       => 0.03 error = 154.97 \n",
      "156 CLVI      => 0.04 error = 155.96 \n",
      "157 CLVII     => 0.04 error = 156.96 [T]\n",
      "158 CLVIII    => 0.05 error = 157.95 [T]\n",
      "159 CLIX      => 0.04 error = 158.96 [T]\n",
      "160 CLX       => 0.03 error = 159.97 \n",
      "161 CLXI      => 0.04 error = 160.96 \n",
      "162 CLXII     => 0.04 error = 161.96 [T]\n",
      "163 CLXIII    => 0.05 error = 162.95 \n",
      "164 CLXIV     => 0.05 error = 163.95 \n",
      "165 CLXV      => 0.04 error = 164.96 [T]\n",
      "166 CLXVI     => 0.05 error = 165.95 [T]\n",
      "167 CLXVII    => 0.05 error = 166.95 \n",
      "168 CLXVIII   => 0.06 error = 167.94 \n",
      "169 CLXIX     => 0.05 error = 168.95 [T]\n",
      "170 CLXX      => 0.05 error = 169.95 \n",
      "171 CLXXI     => 0.05 error = 170.95 [T]\n",
      "172 CLXXII    => 0.06 error = 171.94 [T]\n",
      "173 CLXXIII   => 0.06 error = 172.94 \n",
      "174 CLXXIV    => 0.06 error = 173.94 \n",
      "175 CLXXV     => 0.06 error = 174.94 \n",
      "176 CLXXVI    => 0.06 error = 175.94 \n",
      "177 CLXXVII   => 0.06 error = 176.94 [T]\n",
      "178 CLXXVIII  => 0.06 error = 177.94 \n",
      "179 CLXXIX    => 0.06 error = 178.94 \n",
      "180 CLXXX     => 0.06 error = 179.94 [T]\n",
      "181 CLXXXI    => 0.06 error = 180.94 \n",
      "182 CLXXXII   => 0.06 error = 181.94 [T]\n",
      "183 CLXXXIII  => 0.07 error = 182.93 \n",
      "184 CLXXXIV   => 0.07 error = 183.93 [T]\n",
      "185 CLXXXV    => 0.06 error = 184.94 \n",
      "186 CLXXXVI   => 0.07 error = 185.93 \n",
      "187 CLXXXVII  => 0.07 error = 186.93 \n",
      "188 CLXXXVIII => 0.07 error = 187.93 \n",
      "189 CLXXXIX   => 0.07 error = 188.93 \n",
      "190 CXC       => 0.02 error = 189.98 [T]\n",
      "191 CXCI      => 0.03 error = 190.97 \n",
      "192 CXCII     => 0.04 error = 191.96 [T]\n",
      "193 CXCIII    => 0.04 error = 192.96 \n",
      "194 CXCIV     => 0.04 error = 193.96 [T]\n",
      "195 CXCV      => 0.04 error = 194.96 \n",
      "196 CXCVI     => 0.04 error = 195.96 \n",
      "197 CXCVII    => 0.05 error = 196.95 \n",
      "198 CXCVIII   => 0.05 error = 197.95 [T]\n",
      "199 CXCIX     => 0.05 error = 198.95 \n",
      "200 CC        => 0.01 error = 199.99 \n",
      "Mean error = 99.45477\n"
     ]
    },
    {
     "data": {
      "text/plain": [
       "99.45477"
      ]
     },
     "execution_count": 10,
     "metadata": {},
     "output_type": "execute_result"
    }
   ],
   "source": [
    "def check_model(verbose=0,how_many=5):\n",
    "    pred = model.predict(samples)\n",
    "    print('text => [predicted value] error=[error]')\n",
    "    error = []\n",
    "    for i in range(len(pred)):\n",
    "        res = samples[i]\n",
    "        error.append(abs(i-pred[i]))\n",
    "        if verbose==1:\n",
    "            train = ''\n",
    "            if i in trainLabels: train='[T]'\n",
    "            print(i + 1,to_text(res),'=> {:.2f} error = {:.2f}'.format(pred[i,0],abs((i+1)-pred[i,0])),train)\n",
    "    if verbose<1: # if not verbose just display 'how_many' random samples\n",
    "        for i in range(how_many):        \n",
    "            x = random.randrange(DATASET_SIZE)\n",
    "            res = samples[x]\n",
    "            print(to_text(res),'=>  {:.2f} error = {:.2f}'.format(pred[x,0],abs(x-pred[x,0])))      \n",
    "    print('Mean error =',np.mean(error))        \n",
    "    return np.mean(error)\n",
    "check_model(1)"
   ]
  },
  {
   "cell_type": "markdown",
   "metadata": {},
   "source": [
    "Trenowanie modelu"
   ]
  },
  {
   "cell_type": "code",
   "execution_count": 11,
   "metadata": {},
   "outputs": [
    {
     "name": "stdout",
     "output_type": "stream",
     "text": [
      "Training with 100 samples 500 epochs and batch_size= 10\n",
      "\n",
      "1/15 Epochs: 500 - loss=3099.394, loss improvement=8904.222\n",
      "text => [predicted value] error=[error]\n",
      "IV        =>  96.62 error = 93.62\n",
      "LXXXVII   =>  96.62 error = 10.62\n",
      "CXIV      =>  96.62 error = 16.38\n",
      "XXX       =>  96.62 error = 67.62\n",
      "CI        =>  96.62 error = 3.38\n",
      "Mean error = 50.04136\n",
      "\n",
      "2/15 Epochs: 1000 - loss=3099.076, loss improvement=-0.081\n",
      "text => [predicted value] error=[error]\n",
      "XXXVII    =>  96.49 error = 60.49\n",
      "CX        =>  96.49 error = 12.51\n",
      "XCVIII    =>  96.49 error = 0.51\n",
      "CXCIII    =>  96.49 error = 95.51\n",
      "CXCIX     =>  96.49 error = 101.51\n",
      "Mean error = 50.045254\n",
      "\n",
      "3/15 Epochs: 1500 - loss=3099.899, loss improvement=-0.745\n",
      "text => [predicted value] error=[error]\n",
      "XCIV      =>  96.67 error = 3.67\n",
      "LXXX      =>  96.67 error = 17.67\n",
      "CLXII     =>  96.67 error = 64.33\n",
      "XXVIII    =>  96.67 error = 69.67\n",
      "XIII      =>  96.67 error = 84.67\n",
      "Mean error = 50.0398\n",
      "\n",
      "4/15 Epochs: 2000 - loss=135.191, loss improvement=2963.930\n",
      "text => [predicted value] error=[error]\n",
      "LXXII     =>  72.41 error = 1.41\n",
      "VII       =>  8.11 error = 2.11\n",
      "XVIII     =>  26.48 error = 9.48\n",
      "XIX       =>  29.73 error = 11.73\n",
      "CXII      =>  157.75 error = 46.75\n",
      "Mean error = 10.997249\n",
      "\n",
      "5/15 Epochs: 2500 - loss=14.846, loss improvement=119.497\n",
      "text => [predicted value] error=[error]\n",
      "CXVII     =>  129.30 error = 13.30\n",
      "X         =>  11.66 error = 2.66\n",
      "CXXXVIII  =>  139.51 error = 2.51\n",
      "CXXV      =>  131.51 error = 7.51\n",
      "XXXII     =>  31.24 error = 0.24\n",
      "Mean error = 6.89238\n",
      "\n",
      "6/15 Epochs: 3000 - loss= 0.678, loss improvement=12.021\n",
      "text => [predicted value] error=[error]\n",
      "CXXXII    =>  131.57 error = 0.57\n",
      "CVIII     =>  169.32 error = 62.32\n",
      "CXXVIII   =>  127.33 error = 0.33\n",
      "CXVIII    =>  123.76 error = 6.76\n",
      "XV        =>  11.96 error = 2.04\n",
      "Mean error = 5.507283\n",
      "\n",
      "7/15 Epochs: 3500 - loss= 0.093, loss improvement= 0.533\n",
      "text => [predicted value] error=[error]\n",
      "CXLIX     =>  144.83 error = 3.17\n",
      "CXLVI     =>  146.15 error = 1.15\n",
      "CXXVIII   =>  127.42 error = 0.42\n",
      "CXXXVI    =>  135.41 error = 0.41\n",
      "LIX       =>  26.85 error = 31.15\n",
      "Mean error = 4.850343\n",
      "\n",
      "8/15 Epochs: 4000 - loss= 0.125, loss improvement=-0.041\n",
      "text => [predicted value] error=[error]\n",
      "CXXIII    =>  121.43 error = 0.57\n",
      "CIX       =>  120.38 error = 12.38\n",
      "LXXIX     =>  79.90 error = 1.90\n",
      "CLXXV     =>  175.17 error = 1.17\n",
      "CXLVI     =>  145.79 error = 0.79\n",
      "Mean error = 5.4599605\n",
      "\n",
      "9/15 Epochs: 4500 - loss= 0.831, loss improvement=-0.633\n",
      "text => [predicted value] error=[error]\n",
      "CXXVI     =>  126.33 error = 1.33\n",
      "CXII      =>  112.91 error = 1.91\n",
      "LXXXVII   =>  86.92 error = 0.92\n",
      "CXIII     =>  114.87 error = 2.87\n",
      "CLIX      =>  156.39 error = 1.61\n",
      "Mean error = 5.9364705\n",
      "\n",
      "10/15 Epochs: 5000 - loss= 0.145, loss improvement= 0.360\n",
      "text => [predicted value] error=[error]\n",
      "CXLII     =>  142.03 error = 1.03\n",
      "CLXXIII   =>  172.07 error = 0.07\n",
      "XCII      =>  92.11 error = 1.11\n",
      "CXVIII    =>  121.11 error = 4.11\n",
      "CXII      =>  111.67 error = 0.67\n",
      "Mean error = 4.4524956\n",
      "\n",
      "11/15 Epochs: 5500 - loss= 0.220, loss improvement=-0.051\n",
      "text => [predicted value] error=[error]\n",
      "CXLIX     =>  144.87 error = 3.13\n",
      "CXLV      =>  144.89 error = 0.89\n",
      "C         =>  99.33 error = 0.33\n",
      "XXXIX     =>  37.34 error = 0.66\n",
      "CXCV      =>  196.89 error = 2.89\n",
      "Mean error = 4.495149\n",
      "\n",
      "12/15 Epochs: 6000 - loss= 0.066, loss improvement= 0.269\n",
      "text => [predicted value] error=[error]\n",
      "LXXIX     =>  81.79 error = 3.79\n",
      "XVII      =>  18.37 error = 2.37\n",
      "VIII      =>  8.21 error = 1.21\n",
      "LVI       =>  56.21 error = 1.21\n",
      "CXX       =>  117.57 error = 1.43\n",
      "Mean error = 4.750289\n",
      "\n",
      "13/15 Epochs: 6500 - loss= 0.074, loss improvement= 0.022\n",
      "text => [predicted value] error=[error]\n",
      "CXVII     =>  121.21 error = 5.21\n",
      "CLIV      =>  153.81 error = 0.81\n",
      "CLXVI     =>  167.14 error = 2.14\n",
      "CXXV      =>  124.96 error = 0.96\n",
      "LXXIV     =>  77.96 error = 4.96\n",
      "Mean error = 4.079555\n",
      "\n",
      "14/15 Epochs: 7000 - loss= 0.218, loss improvement=-0.174\n",
      "text => [predicted value] error=[error]\n",
      "CXI       =>  111.69 error = 1.69\n",
      "XXVIII    =>  27.72 error = 0.72\n",
      "CXLVII    =>  146.92 error = 0.92\n",
      "CLXIII    =>  162.70 error = 0.70\n",
      "XXVI      =>  26.13 error = 1.13\n",
      "Mean error = 4.128655\n",
      "\n",
      "15/15 Epochs: 7500 - loss= 0.073, loss improvement= 0.072\n",
      "text => [predicted value] error=[error]\n",
      "CLXXXV    =>  184.87 error = 0.87\n",
      "VI        =>  5.63 error = 0.63\n",
      "CVII      =>  115.41 error = 9.41\n",
      "CLXXXIX   =>  189.01 error = 1.01\n",
      "XXV       =>  24.90 error = 0.90\n",
      "Mean error = 4.3801203\n",
      "Done\n"
     ]
    }
   ],
   "source": [
    "EPOCHS=500\n",
    "BATCH_SIZE = int(len(trainSamples)/10)\n",
    "print('Training with',len(trainSamples),'samples',EPOCHS,'epochs and batch_size=',BATCH_SIZE)\n",
    "for x in range(15):\n",
    "    H = model.fit(trainSamples, trainLabels, epochs=EPOCHS,verbose=0,batch_size=BATCH_SIZE)\n",
    "    num_epochs += EPOCHS\n",
    "    print(\"\\n{}/15 Epochs: {} - loss={:6.3f}, loss improvement={:6.3f}\".\n",
    "          format(x + 1, num_epochs,H.history['loss'][-1], H.history['loss'][0]-H.history['loss'][-1]))\n",
    "    check_model()\n",
    "print(\"Done\")"
   ]
  },
  {
   "cell_type": "markdown",
   "metadata": {},
   "source": [
    "Sprawdzenie przetrenowanego modelu"
   ]
  },
  {
   "cell_type": "code",
   "execution_count": 12,
   "metadata": {},
   "outputs": [
    {
     "name": "stdout",
     "output_type": "stream",
     "text": [
      "text => [predicted value] error=[error]\n",
      "1 I         => 1.03 error = 0.03 \n",
      "2 II        => 1.98 error = 0.02 [T]\n",
      "3 III       => 3.02 error = 0.02 [T]\n",
      "4 IV        => 4.01 error = 0.01 [T]\n",
      "5 V         => 6.34 error = 1.34 [T]\n",
      "6 VI        => 5.63 error = 0.37 \n",
      "7 VII       => 7.07 error = 0.07 \n",
      "8 VIII      => 7.97 error = 0.03 [T]\n",
      "9 IX        => 9.01 error = 0.01 [T]\n",
      "10 X         => 10.03 error = 0.03 [T]\n",
      "11 XI        => 11.01 error = 0.01 [T]\n",
      "12 XII       => 10.64 error = 1.36 [T]\n",
      "13 XIII      => 12.06 error = 0.94 \n",
      "14 XIV       => 16.68 error = 2.68 \n",
      "15 XV        => 13.71 error = 1.29 \n",
      "16 XVI       => 16.07 error = 0.07 \n",
      "17 XVII      => 18.72 error = 1.72 [T]\n",
      "18 XVIII     => 20.23 error = 2.23 \n",
      "19 XIX       => 37.46 error = 18.46 \n",
      "20 XX        => 18.04 error = 1.96 \n",
      "21 XXI       => 21.01 error = 0.01 \n",
      "22 XXII      => 22.18 error = 0.18 [T]\n",
      "23 XXIII     => 23.04 error = 0.04 [T]\n",
      "24 XXIV      => 23.93 error = 0.07 [T]\n",
      "25 XXV       => 24.90 error = 0.10 [T]\n",
      "26 XXVI      => 26.13 error = 0.13 [T]\n",
      "27 XXVII     => 27.11 error = 0.11 [T]\n",
      "28 XXVIII    => 27.94 error = 0.06 [T]\n",
      "29 XXIX      => 25.77 error = 3.23 \n",
      "30 XXX       => 27.81 error = 2.19 \n",
      "31 XXXI      => 30.95 error = 0.05 \n",
      "32 XXXII     => 32.32 error = 0.32 [T]\n",
      "33 XXXIII    => 33.15 error = 0.15 \n",
      "34 XXXIV     => 34.68 error = 0.68 [T]\n",
      "35 XXXV      => 34.52 error = 0.48 \n",
      "36 XXXVI     => 35.58 error = 0.42 \n",
      "37 XXXVII    => 36.72 error = 0.28 \n",
      "38 XXXVIII   => 38.02 error = 0.02 \n",
      "39 XXXIX     => 37.13 error = 1.87 [T]\n",
      "40 XL        => 12.55 error = 27.45 \n",
      "41 XLI       => 23.98 error = 17.02 \n",
      "42 XLII      => 42.05 error = 0.05 \n",
      "43 XLIII     => 43.22 error = 0.22 [T]\n",
      "44 XLIV      => 43.99 error = 0.01 \n",
      "45 XLV       => 43.58 error = 1.42 [T]\n",
      "46 XLVI      => 44.49 error = 1.51 \n",
      "47 XLVII     => 47.08 error = 0.08 \n",
      "48 XLVIII    => 47.19 error = 0.81 [T]\n",
      "49 XLIX      => 44.33 error = 4.67 \n",
      "50 L         => 50.03 error = 0.03 \n",
      "51 LI        => 51.10 error = 0.10 [T]\n",
      "52 LII       => 51.80 error = 0.20 [T]\n",
      "53 LIII      => 52.95 error = 0.05 \n",
      "54 LIV       => 56.30 error = 2.30 [T]\n",
      "55 LV        => 53.81 error = 1.19 \n",
      "56 LVI       => 56.07 error = 0.07 \n",
      "57 LVII      => 57.15 error = 0.15 [T]\n",
      "58 LVIII     => 58.06 error = 0.06 \n",
      "59 LIX       => 58.20 error = 0.80 [T]\n",
      "60 LX        => 56.00 error = 4.00 \n",
      "61 LXI       => 61.07 error = 0.07 \n",
      "62 LXII      => 62.22 error = 0.22 [T]\n",
      "63 LXIII     => 63.01 error = 0.01 [T]\n",
      "64 LXIV      => 64.02 error = 0.02 [T]\n",
      "65 LXV       => 65.07 error = 0.07 [T]\n",
      "66 LXVI      => 66.14 error = 0.14 [T]\n",
      "67 LXVII     => 67.92 error = 0.92 [T]\n",
      "68 LXVIII    => 69.22 error = 1.22 \n",
      "69 LXIX      => 69.05 error = 0.05 \n",
      "70 LXX       => 68.45 error = 1.55 [T]\n",
      "71 LXXI      => 70.82 error = 0.18 \n",
      "72 LXXII     => 71.93 error = 0.07 [T]\n",
      "73 LXXIII    => 73.06 error = 0.06 [T]\n",
      "74 LXXIV     => 75.79 error = 1.79 [T]\n",
      "75 LXXV      => 74.95 error = 0.05 \n",
      "76 LXXVI     => 76.12 error = 0.12 [T]\n",
      "77 LXXVII    => 77.08 error = 0.08 [T]\n",
      "78 LXXVIII   => 78.02 error = 0.02 [T]\n",
      "79 LXXIX     => 80.07 error = 1.07 [T]\n",
      "80 LXXX      => 80.05 error = 0.05 \n",
      "81 LXXXI     => 80.85 error = 0.15 [T]\n",
      "82 LXXXII    => 80.83 error = 1.17 [T]\n",
      "83 LXXXIII   => 81.28 error = 1.72 \n",
      "84 LXXXIV    => 84.27 error = 0.27 \n",
      "85 LXXXV     => 87.10 error = 2.10 [T]\n",
      "86 LXXXVI    => 86.08 error = 0.08 \n",
      "87 LXXXVII   => 86.76 error = 0.24 [T]\n",
      "88 LXXXVIII  => 88.10 error = 0.10 [T]\n",
      "89 LXXXIX    => 89.14 error = 0.14 [T]\n",
      "90 XC        => 9.39 error = 80.61 [T]\n",
      "91 XCI       => 35.38 error = 55.62 \n",
      "92 XCII      => 92.08 error = 0.08 \n",
      "93 XCIII     => 93.08 error = 0.08 [T]\n",
      "94 XCIV      => 93.03 error = 0.97 [T]\n",
      "95 XCV       => 91.93 error = 3.07 \n",
      "96 XCVI      => 97.00 error = 1.00 \n",
      "97 XCVII     => 97.14 error = 0.14 \n",
      "98 XCVIII    => 97.31 error = 0.69 [T]\n",
      "99 XCIX      => 93.48 error = 5.52 \n",
      "100 C         => 98.97 error = 1.03 \n",
      "101 CI        => 100.96 error = 0.04 \n",
      "102 CII       => 101.97 error = 0.03 [T]\n",
      "103 CIII      => 107.52 error = 4.52 [T]\n",
      "104 CIV       => 155.24 error = 51.24 \n",
      "105 CV        => 105.19 error = 0.19 \n",
      "106 CVI       => 109.62 error = 3.62 [T]\n",
      "107 CVII      => 115.41 error = 8.41 \n",
      "108 CVIII     => 137.02 error = 29.02 \n",
      "109 CIX       => 161.23 error = 52.23 \n",
      "110 CX        => 109.80 error = 0.20 \n",
      "111 CXI       => 108.28 error = 2.72 [T]\n",
      "112 CXII      => 111.98 error = 0.02 \n",
      "113 CXIII     => 113.18 error = 0.18 [T]\n",
      "114 CXIV      => 162.38 error = 48.38 [T]\n",
      "115 CXV       => 119.60 error = 4.60 \n",
      "116 CXVI      => 116.03 error = 0.03 \n",
      "117 CXVII     => 122.07 error = 5.07 [T]\n",
      "118 CXVIII    => 124.51 error = 6.51 \n",
      "119 CXIX      => 172.61 error = 53.61 \n",
      "120 CXX       => 117.26 error = 2.74 \n",
      "121 CXXI      => 117.84 error = 3.16 \n",
      "122 CXXII     => 121.63 error = 0.37 \n",
      "123 CXXIII    => 122.31 error = 0.69 [T]\n",
      "124 CXXIV     => 127.43 error = 3.43 \n",
      "125 CXXV      => 124.76 error = 0.24 \n",
      "126 CXXVI     => 126.24 error = 0.24 \n",
      "127 CXXVII    => 126.80 error = 0.20 [T]\n",
      "128 CXXVIII   => 127.21 error = 0.79 [T]\n",
      "129 CXXIX     => 129.55 error = 0.55 \n",
      "130 CXXX      => 128.87 error = 1.13 [T]\n",
      "131 CXXXI     => 131.15 error = 0.15 [T]\n",
      "132 CXXXII    => 131.70 error = 0.30 [T]\n",
      "133 CXXXIII   => 132.07 error = 0.93 [T]\n",
      "134 CXXXIV    => 134.99 error = 0.99 \n",
      "135 CXXXV     => 134.64 error = 0.36 [T]\n",
      "136 CXXXVI    => 135.76 error = 0.24 [T]\n",
      "137 CXXXVII   => 136.75 error = 0.25 [T]\n",
      "138 CXXXVIII  => 137.66 error = 0.34 \n",
      "139 CXXXIX    => 136.49 error = 2.51 [T]\n",
      "140 CXL       => 140.03 error = 0.03 \n",
      "141 CXLI      => 141.17 error = 0.17 [T]\n",
      "142 CXLII     => 141.76 error = 0.24 [T]\n",
      "143 CXLIII    => 142.66 error = 0.34 [T]\n",
      "144 CXLIV     => 144.68 error = 0.68 [T]\n",
      "145 CXLV      => 144.71 error = 0.29 [T]\n",
      "146 CXLVI     => 146.54 error = 0.54 [T]\n",
      "147 CXLVII    => 147.13 error = 0.13 [T]\n",
      "148 CXLVIII   => 147.59 error = 0.41 [T]\n",
      "149 CXLIX     => 145.09 error = 3.91 [T]\n",
      "150 CL        => 150.05 error = 0.05 \n",
      "151 CLI       => 151.09 error = 0.09 [T]\n",
      "152 CLII      => 152.00 error = 0.00 [T]\n",
      "153 CLIII     => 153.21 error = 0.21 [T]\n",
      "154 CLIV      => 155.97 error = 1.97 [T]\n",
      "155 CLV       => 155.87 error = 0.87 \n",
      "156 CLVI      => 156.43 error = 0.43 \n",
      "157 CLVII     => 156.78 error = 0.22 [T]\n",
      "158 CLVIII    => 158.25 error = 0.25 [T]\n",
      "159 CLIX      => 159.94 error = 0.94 [T]\n",
      "160 CLX       => 158.71 error = 1.29 \n",
      "161 CLXI      => 161.02 error = 0.02 \n",
      "162 CLXII     => 161.07 error = 0.93 [T]\n",
      "163 CLXIII    => 159.29 error = 3.71 \n",
      "164 CLXIV     => 164.15 error = 0.15 \n",
      "165 CLXV      => 165.12 error = 0.12 [T]\n",
      "166 CLXVI     => 167.02 error = 1.02 [T]\n",
      "167 CLXVII    => 167.67 error = 0.67 \n",
      "168 CLXVIII   => 168.01 error = 0.01 \n",
      "169 CLXIX     => 169.74 error = 0.74 [T]\n",
      "170 CLXX      => 170.01 error = 0.01 \n",
      "171 CLXXI     => 171.03 error = 0.03 [T]\n",
      "172 CLXXII    => 171.72 error = 0.28 [T]\n",
      "173 CLXXIII   => 172.61 error = 0.39 \n",
      "174 CLXXIV    => 175.65 error = 1.65 \n",
      "175 CLXXV     => 174.02 error = 0.98 \n",
      "176 CLXXVI    => 175.94 error = 0.06 \n",
      "177 CLXXVII   => 177.65 error = 0.65 [T]\n",
      "178 CLXXVIII  => 178.98 error = 0.98 \n",
      "179 CLXXIX    => 178.92 error = 0.08 \n",
      "180 CLXXX     => 177.71 error = 2.29 [T]\n",
      "181 CLXXXI    => 180.90 error = 0.10 \n",
      "182 CLXXXII   => 182.18 error = 0.18 [T]\n",
      "183 CLXXXIII  => 183.02 error = 0.02 \n",
      "184 CLXXXIV   => 187.42 error = 3.42 [T]\n",
      "185 CLXXXV    => 184.87 error = 0.13 \n",
      "186 CLXXXVI   => 186.53 error = 0.53 \n",
      "187 CLXXXVII  => 187.40 error = 0.40 \n",
      "188 CLXXXVIII => 188.91 error = 0.91 \n",
      "189 CLXXXIX   => 189.01 error = 0.01 \n",
      "190 CXC       => 112.83 error = 77.17 [T]\n",
      "191 CXCI      => 191.40 error = 0.40 \n",
      "192 CXCII     => 192.47 error = 0.47 [T]\n",
      "193 CXCIII    => 193.12 error = 0.12 \n",
      "194 CXCIV     => 193.02 error = 0.98 [T]\n",
      "195 CXCV      => 196.03 error = 1.03 \n",
      "196 CXCVI     => 196.82 error = 0.82 \n",
      "197 CXCVII    => 197.00 error = 0.00 \n",
      "198 CXCVIII   => 197.07 error = 0.93 [T]\n",
      "199 CXCIX     => 193.18 error = 5.82 \n",
      "200 CC        => 100.42 error = 99.58 \n",
      "Mean error = 4.3801203\n"
     ]
    },
    {
     "data": {
      "text/plain": [
       "4.3801203"
      ]
     },
     "execution_count": 12,
     "metadata": {},
     "output_type": "execute_result"
    }
   ],
   "source": [
    "check_model(1)"
   ]
  },
  {
   "cell_type": "markdown",
   "metadata": {},
   "source": [
    "Sprawdzenie przykładowej cyfry rzymskiej"
   ]
  },
  {
   "cell_type": "code",
   "execution_count": 19,
   "metadata": {
    "scrolled": false
   },
   "outputs": [
    {
     "data": {
      "text/plain": [
       "array([[10.183619]], dtype=float32)"
      ]
     },
     "execution_count": 19,
     "metadata": {},
     "output_type": "execute_result"
    }
   ],
   "source": [
    "x = to_number('X         ') \n",
    "x = np.expand_dims(x,axis=1)\n",
    "x = np.expand_dims(x,axis=0)\n",
    "model.predict(x)"
   ]
  },
  {
   "cell_type": "markdown",
   "metadata": {},
   "source": [
    "Zapisanie modelu"
   ]
  },
  {
   "cell_type": "code",
   "execution_count": 14,
   "metadata": {},
   "outputs": [],
   "source": [
    "model.save('model_romans2numbers.h5')"
   ]
  }
 ],
 "metadata": {
  "kernelspec": {
   "display_name": "Python 3",
   "language": "python",
   "name": "python3"
  },
  "language_info": {
   "codemirror_mode": {
    "name": "ipython",
    "version": 3
   },
   "file_extension": ".py",
   "mimetype": "text/x-python",
   "name": "python",
   "nbconvert_exporter": "python",
   "pygments_lexer": "ipython3",
   "version": "3.7.9"
  }
 },
 "nbformat": 4,
 "nbformat_minor": 4
}
